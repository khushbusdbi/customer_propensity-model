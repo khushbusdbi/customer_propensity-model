{
 "cells": [
  {
   "cell_type": "code",
   "execution_count": 1,
   "metadata": {},
   "outputs": [],
   "source": [
    " import pandas as pd\n",
    "import numpy as np\n",
    "import seaborn as sns\n",
    "import matplotlib.pyplot as plt\n",
    "from sklearn.linear_model import LogisticRegression\n",
    "from sklearn.naive_bayes import GaussianNB,MultinomialNB\n",
    "from sklearn.ensemble import RandomForestClassifier\n",
    "from sklearn.model_selection import train_test_split\n",
    "from sklearn.preprocessing import MinMaxScaler,OneHotEncoder\n",
    "from sklearn.tree import DecisionTreeClassifier\n",
    "from sklearn.metrics import accuracy_score,classification_report,confusion_matrix,ConfusionMatrixDisplay,roc_auc_score,roc_curve"
   ]
  },
  {
   "cell_type": "markdown",
   "metadata": {},
   "source": [
    "## Importing and warehousing data"
   ]
  },
  {
   "cell_type": "code",
   "execution_count": 2,
   "metadata": {},
   "outputs": [
    {
     "name": "stdout",
     "output_type": "stream",
     "text": [
      "(5000, 8)\n"
     ]
    }
   ],
   "source": [
    "df1 = pd.read_csv(r\"C:\\Users\\hp\\Desktop\\Finance_casestudy_706\\Part2 - Data1.csv\")\n",
    "print(df1.shape)"
   ]
  },
  {
   "cell_type": "code",
   "execution_count": 3,
   "metadata": {},
   "outputs": [
    {
     "name": "stdout",
     "output_type": "stream",
     "text": [
      "(5000, 7)\n"
     ]
    }
   ],
   "source": [
    "df2 = pd.read_csv(r\"C:\\Users\\hp\\Desktop\\Finance_casestudy_706\\Part2 -Data2.csv\")\n",
    "print(df2.shape)"
   ]
  },
  {
   "cell_type": "code",
   "execution_count": 4,
   "metadata": {},
   "outputs": [
    {
     "name": "stdout",
     "output_type": "stream",
     "text": [
      "(5000, 14)\n"
     ]
    }
   ],
   "source": [
    "df = pd.merge(df1,df2,on=\"ID\",how=\"inner\")\n",
    "print(df.shape)"
   ]
  },
  {
   "cell_type": "code",
   "execution_count": 5,
   "metadata": {},
   "outputs": [
    {
     "data": {
      "text/html": [
       "<div>\n",
       "<style scoped>\n",
       "    .dataframe tbody tr th:only-of-type {\n",
       "        vertical-align: middle;\n",
       "    }\n",
       "\n",
       "    .dataframe tbody tr th {\n",
       "        vertical-align: top;\n",
       "    }\n",
       "\n",
       "    .dataframe thead th {\n",
       "        text-align: right;\n",
       "    }\n",
       "</style>\n",
       "<table border=\"1\" class=\"dataframe\">\n",
       "  <thead>\n",
       "    <tr style=\"text-align: right;\">\n",
       "      <th></th>\n",
       "      <th>ID</th>\n",
       "      <th>Age</th>\n",
       "      <th>CustomerSince</th>\n",
       "      <th>HighestSpend</th>\n",
       "      <th>ZipCode</th>\n",
       "      <th>HiddenScore</th>\n",
       "      <th>MonthlyAverageSpend</th>\n",
       "      <th>Level</th>\n",
       "      <th>Mortgage</th>\n",
       "      <th>Security</th>\n",
       "      <th>FixedDepositAccount</th>\n",
       "      <th>InternetBanking</th>\n",
       "      <th>CreditCard</th>\n",
       "      <th>LoanOnCard</th>\n",
       "    </tr>\n",
       "  </thead>\n",
       "  <tbody>\n",
       "    <tr>\n",
       "      <th>0</th>\n",
       "      <td>1</td>\n",
       "      <td>25</td>\n",
       "      <td>1</td>\n",
       "      <td>49</td>\n",
       "      <td>91107</td>\n",
       "      <td>4</td>\n",
       "      <td>1.6</td>\n",
       "      <td>1</td>\n",
       "      <td>0</td>\n",
       "      <td>1</td>\n",
       "      <td>0</td>\n",
       "      <td>0</td>\n",
       "      <td>0</td>\n",
       "      <td>NaN</td>\n",
       "    </tr>\n",
       "    <tr>\n",
       "      <th>1</th>\n",
       "      <td>2</td>\n",
       "      <td>45</td>\n",
       "      <td>19</td>\n",
       "      <td>34</td>\n",
       "      <td>90089</td>\n",
       "      <td>3</td>\n",
       "      <td>1.5</td>\n",
       "      <td>1</td>\n",
       "      <td>0</td>\n",
       "      <td>1</td>\n",
       "      <td>0</td>\n",
       "      <td>0</td>\n",
       "      <td>0</td>\n",
       "      <td>NaN</td>\n",
       "    </tr>\n",
       "    <tr>\n",
       "      <th>2</th>\n",
       "      <td>3</td>\n",
       "      <td>39</td>\n",
       "      <td>15</td>\n",
       "      <td>11</td>\n",
       "      <td>94720</td>\n",
       "      <td>1</td>\n",
       "      <td>1.0</td>\n",
       "      <td>1</td>\n",
       "      <td>0</td>\n",
       "      <td>0</td>\n",
       "      <td>0</td>\n",
       "      <td>0</td>\n",
       "      <td>0</td>\n",
       "      <td>NaN</td>\n",
       "    </tr>\n",
       "    <tr>\n",
       "      <th>3</th>\n",
       "      <td>4</td>\n",
       "      <td>35</td>\n",
       "      <td>9</td>\n",
       "      <td>100</td>\n",
       "      <td>94112</td>\n",
       "      <td>1</td>\n",
       "      <td>2.7</td>\n",
       "      <td>2</td>\n",
       "      <td>0</td>\n",
       "      <td>0</td>\n",
       "      <td>0</td>\n",
       "      <td>0</td>\n",
       "      <td>0</td>\n",
       "      <td>NaN</td>\n",
       "    </tr>\n",
       "    <tr>\n",
       "      <th>4</th>\n",
       "      <td>5</td>\n",
       "      <td>35</td>\n",
       "      <td>8</td>\n",
       "      <td>45</td>\n",
       "      <td>91330</td>\n",
       "      <td>4</td>\n",
       "      <td>1.0</td>\n",
       "      <td>2</td>\n",
       "      <td>0</td>\n",
       "      <td>0</td>\n",
       "      <td>0</td>\n",
       "      <td>0</td>\n",
       "      <td>1</td>\n",
       "      <td>NaN</td>\n",
       "    </tr>\n",
       "  </tbody>\n",
       "</table>\n",
       "</div>"
      ],
      "text/plain": [
       "   ID  Age  CustomerSince  HighestSpend  ZipCode  HiddenScore  \\\n",
       "0   1   25              1            49    91107            4   \n",
       "1   2   45             19            34    90089            3   \n",
       "2   3   39             15            11    94720            1   \n",
       "3   4   35              9           100    94112            1   \n",
       "4   5   35              8            45    91330            4   \n",
       "\n",
       "   MonthlyAverageSpend  Level  Mortgage  Security  FixedDepositAccount  \\\n",
       "0                  1.6      1         0         1                    0   \n",
       "1                  1.5      1         0         1                    0   \n",
       "2                  1.0      1         0         0                    0   \n",
       "3                  2.7      2         0         0                    0   \n",
       "4                  1.0      2         0         0                    0   \n",
       "\n",
       "   InternetBanking  CreditCard  LoanOnCard  \n",
       "0                0           0         NaN  \n",
       "1                0           0         NaN  \n",
       "2                0           0         NaN  \n",
       "3                0           0         NaN  \n",
       "4                0           1         NaN  "
      ]
     },
     "execution_count": 5,
     "metadata": {},
     "output_type": "execute_result"
    }
   ],
   "source": [
    "df.head()"
   ]
  },
  {
   "cell_type": "markdown",
   "metadata": {},
   "source": [
    "## Data cleansing"
   ]
  },
  {
   "cell_type": "code",
   "execution_count": 6,
   "metadata": {},
   "outputs": [
    {
     "name": "stdout",
     "output_type": "stream",
     "text": [
      "<class 'pandas.core.frame.DataFrame'>\n",
      "Int64Index: 5000 entries, 0 to 4999\n",
      "Data columns (total 14 columns):\n",
      " #   Column               Non-Null Count  Dtype  \n",
      "---  ------               --------------  -----  \n",
      " 0   ID                   5000 non-null   int64  \n",
      " 1   Age                  5000 non-null   int64  \n",
      " 2   CustomerSince        5000 non-null   int64  \n",
      " 3   HighestSpend         5000 non-null   int64  \n",
      " 4   ZipCode              5000 non-null   int64  \n",
      " 5   HiddenScore          5000 non-null   int64  \n",
      " 6   MonthlyAverageSpend  5000 non-null   float64\n",
      " 7   Level                5000 non-null   int64  \n",
      " 8   Mortgage             5000 non-null   int64  \n",
      " 9   Security             5000 non-null   int64  \n",
      " 10  FixedDepositAccount  5000 non-null   int64  \n",
      " 11  InternetBanking      5000 non-null   int64  \n",
      " 12  CreditCard           5000 non-null   int64  \n",
      " 13  LoanOnCard           4980 non-null   float64\n",
      "dtypes: float64(2), int64(12)\n",
      "memory usage: 585.9 KB\n"
     ]
    }
   ],
   "source": [
    "df.info()"
   ]
  },
  {
   "cell_type": "code",
   "execution_count": 7,
   "metadata": {},
   "outputs": [
    {
     "data": {
      "text/plain": [
       "ID                      0\n",
       "Age                     0\n",
       "CustomerSince           0\n",
       "HighestSpend            0\n",
       "ZipCode                 0\n",
       "HiddenScore             0\n",
       "MonthlyAverageSpend     0\n",
       "Level                   0\n",
       "Mortgage                0\n",
       "Security                0\n",
       "FixedDepositAccount     0\n",
       "InternetBanking         0\n",
       "CreditCard              0\n",
       "LoanOnCard             20\n",
       "dtype: int64"
      ]
     },
     "execution_count": 7,
     "metadata": {},
     "output_type": "execute_result"
    }
   ],
   "source": [
    "df.isnull().sum()"
   ]
  },
  {
   "cell_type": "code",
   "execution_count": 8,
   "metadata": {},
   "outputs": [],
   "source": [
    "df.dropna(inplace=True)"
   ]
  },
  {
   "cell_type": "code",
   "execution_count": 9,
   "metadata": {},
   "outputs": [],
   "source": [
    "df.reset_index(inplace=True,drop=True)"
   ]
  },
  {
   "cell_type": "code",
   "execution_count": 10,
   "metadata": {},
   "outputs": [
    {
     "name": "stdout",
     "output_type": "stream",
     "text": [
      "(4980, 14)\n"
     ]
    }
   ],
   "source": [
    "print(df.shape)"
   ]
  },
  {
   "cell_type": "code",
   "execution_count": 11,
   "metadata": {},
   "outputs": [
    {
     "data": {
      "text/plain": [
       "Series([], Name: ID, dtype: int64)"
      ]
     },
     "execution_count": 11,
     "metadata": {},
     "output_type": "execute_result"
    }
   ],
   "source": [
    "#Checking duplicate values\n",
    "df.ID.value_counts()[df.ID.value_counts() != 1]"
   ]
  },
  {
   "cell_type": "code",
   "execution_count": 12,
   "metadata": {},
   "outputs": [
    {
     "data": {
      "text/html": [
       "<div>\n",
       "<style scoped>\n",
       "    .dataframe tbody tr th:only-of-type {\n",
       "        vertical-align: middle;\n",
       "    }\n",
       "\n",
       "    .dataframe tbody tr th {\n",
       "        vertical-align: top;\n",
       "    }\n",
       "\n",
       "    .dataframe thead th {\n",
       "        text-align: right;\n",
       "    }\n",
       "</style>\n",
       "<table border=\"1\" class=\"dataframe\">\n",
       "  <thead>\n",
       "    <tr style=\"text-align: right;\">\n",
       "      <th></th>\n",
       "      <th>count</th>\n",
       "      <th>mean</th>\n",
       "      <th>std</th>\n",
       "      <th>min</th>\n",
       "      <th>25%</th>\n",
       "      <th>50%</th>\n",
       "      <th>75%</th>\n",
       "      <th>max</th>\n",
       "    </tr>\n",
       "  </thead>\n",
       "  <tbody>\n",
       "    <tr>\n",
       "      <th>ID</th>\n",
       "      <td>4980.0</td>\n",
       "      <td>2510.345382</td>\n",
       "      <td>1438.011129</td>\n",
       "      <td>10.0</td>\n",
       "      <td>1265.75</td>\n",
       "      <td>2510.5</td>\n",
       "      <td>3755.250</td>\n",
       "      <td>5000.0</td>\n",
       "    </tr>\n",
       "    <tr>\n",
       "      <th>Age</th>\n",
       "      <td>4980.0</td>\n",
       "      <td>45.352610</td>\n",
       "      <td>11.464212</td>\n",
       "      <td>23.0</td>\n",
       "      <td>35.00</td>\n",
       "      <td>45.0</td>\n",
       "      <td>55.000</td>\n",
       "      <td>67.0</td>\n",
       "    </tr>\n",
       "    <tr>\n",
       "      <th>CustomerSince</th>\n",
       "      <td>4980.0</td>\n",
       "      <td>20.117671</td>\n",
       "      <td>11.468716</td>\n",
       "      <td>-3.0</td>\n",
       "      <td>10.00</td>\n",
       "      <td>20.0</td>\n",
       "      <td>30.000</td>\n",
       "      <td>43.0</td>\n",
       "    </tr>\n",
       "    <tr>\n",
       "      <th>HighestSpend</th>\n",
       "      <td>4980.0</td>\n",
       "      <td>73.852410</td>\n",
       "      <td>46.070090</td>\n",
       "      <td>8.0</td>\n",
       "      <td>39.00</td>\n",
       "      <td>64.0</td>\n",
       "      <td>98.000</td>\n",
       "      <td>224.0</td>\n",
       "    </tr>\n",
       "    <tr>\n",
       "      <th>ZipCode</th>\n",
       "      <td>4980.0</td>\n",
       "      <td>93152.420482</td>\n",
       "      <td>2123.660073</td>\n",
       "      <td>9307.0</td>\n",
       "      <td>91911.00</td>\n",
       "      <td>93407.0</td>\n",
       "      <td>94608.000</td>\n",
       "      <td>96651.0</td>\n",
       "    </tr>\n",
       "    <tr>\n",
       "      <th>HiddenScore</th>\n",
       "      <td>4980.0</td>\n",
       "      <td>2.395582</td>\n",
       "      <td>1.147200</td>\n",
       "      <td>1.0</td>\n",
       "      <td>1.00</td>\n",
       "      <td>2.0</td>\n",
       "      <td>3.000</td>\n",
       "      <td>4.0</td>\n",
       "    </tr>\n",
       "    <tr>\n",
       "      <th>MonthlyAverageSpend</th>\n",
       "      <td>4980.0</td>\n",
       "      <td>1.939536</td>\n",
       "      <td>1.750006</td>\n",
       "      <td>0.0</td>\n",
       "      <td>0.70</td>\n",
       "      <td>1.5</td>\n",
       "      <td>2.525</td>\n",
       "      <td>10.0</td>\n",
       "    </tr>\n",
       "    <tr>\n",
       "      <th>Level</th>\n",
       "      <td>4980.0</td>\n",
       "      <td>1.880924</td>\n",
       "      <td>0.840144</td>\n",
       "      <td>1.0</td>\n",
       "      <td>1.00</td>\n",
       "      <td>2.0</td>\n",
       "      <td>3.000</td>\n",
       "      <td>3.0</td>\n",
       "    </tr>\n",
       "    <tr>\n",
       "      <th>Mortgage</th>\n",
       "      <td>4980.0</td>\n",
       "      <td>56.589759</td>\n",
       "      <td>101.836758</td>\n",
       "      <td>0.0</td>\n",
       "      <td>0.00</td>\n",
       "      <td>0.0</td>\n",
       "      <td>101.000</td>\n",
       "      <td>635.0</td>\n",
       "    </tr>\n",
       "    <tr>\n",
       "      <th>Security</th>\n",
       "      <td>4980.0</td>\n",
       "      <td>0.104418</td>\n",
       "      <td>0.305832</td>\n",
       "      <td>0.0</td>\n",
       "      <td>0.00</td>\n",
       "      <td>0.0</td>\n",
       "      <td>0.000</td>\n",
       "      <td>1.0</td>\n",
       "    </tr>\n",
       "    <tr>\n",
       "      <th>FixedDepositAccount</th>\n",
       "      <td>4980.0</td>\n",
       "      <td>0.060643</td>\n",
       "      <td>0.238697</td>\n",
       "      <td>0.0</td>\n",
       "      <td>0.00</td>\n",
       "      <td>0.0</td>\n",
       "      <td>0.000</td>\n",
       "      <td>1.0</td>\n",
       "    </tr>\n",
       "    <tr>\n",
       "      <th>InternetBanking</th>\n",
       "      <td>4980.0</td>\n",
       "      <td>0.597189</td>\n",
       "      <td>0.490513</td>\n",
       "      <td>0.0</td>\n",
       "      <td>0.00</td>\n",
       "      <td>1.0</td>\n",
       "      <td>1.000</td>\n",
       "      <td>1.0</td>\n",
       "    </tr>\n",
       "    <tr>\n",
       "      <th>CreditCard</th>\n",
       "      <td>4980.0</td>\n",
       "      <td>0.294378</td>\n",
       "      <td>0.455808</td>\n",
       "      <td>0.0</td>\n",
       "      <td>0.00</td>\n",
       "      <td>0.0</td>\n",
       "      <td>1.000</td>\n",
       "      <td>1.0</td>\n",
       "    </tr>\n",
       "    <tr>\n",
       "      <th>LoanOnCard</th>\n",
       "      <td>4980.0</td>\n",
       "      <td>0.096386</td>\n",
       "      <td>0.295149</td>\n",
       "      <td>0.0</td>\n",
       "      <td>0.00</td>\n",
       "      <td>0.0</td>\n",
       "      <td>0.000</td>\n",
       "      <td>1.0</td>\n",
       "    </tr>\n",
       "  </tbody>\n",
       "</table>\n",
       "</div>"
      ],
      "text/plain": [
       "                      count          mean          std     min       25%  \\\n",
       "ID                   4980.0   2510.345382  1438.011129    10.0   1265.75   \n",
       "Age                  4980.0     45.352610    11.464212    23.0     35.00   \n",
       "CustomerSince        4980.0     20.117671    11.468716    -3.0     10.00   \n",
       "HighestSpend         4980.0     73.852410    46.070090     8.0     39.00   \n",
       "ZipCode              4980.0  93152.420482  2123.660073  9307.0  91911.00   \n",
       "HiddenScore          4980.0      2.395582     1.147200     1.0      1.00   \n",
       "MonthlyAverageSpend  4980.0      1.939536     1.750006     0.0      0.70   \n",
       "Level                4980.0      1.880924     0.840144     1.0      1.00   \n",
       "Mortgage             4980.0     56.589759   101.836758     0.0      0.00   \n",
       "Security             4980.0      0.104418     0.305832     0.0      0.00   \n",
       "FixedDepositAccount  4980.0      0.060643     0.238697     0.0      0.00   \n",
       "InternetBanking      4980.0      0.597189     0.490513     0.0      0.00   \n",
       "CreditCard           4980.0      0.294378     0.455808     0.0      0.00   \n",
       "LoanOnCard           4980.0      0.096386     0.295149     0.0      0.00   \n",
       "\n",
       "                         50%        75%      max  \n",
       "ID                    2510.5   3755.250   5000.0  \n",
       "Age                     45.0     55.000     67.0  \n",
       "CustomerSince           20.0     30.000     43.0  \n",
       "HighestSpend            64.0     98.000    224.0  \n",
       "ZipCode              93407.0  94608.000  96651.0  \n",
       "HiddenScore              2.0      3.000      4.0  \n",
       "MonthlyAverageSpend      1.5      2.525     10.0  \n",
       "Level                    2.0      3.000      3.0  \n",
       "Mortgage                 0.0    101.000    635.0  \n",
       "Security                 0.0      0.000      1.0  \n",
       "FixedDepositAccount      0.0      0.000      1.0  \n",
       "InternetBanking          1.0      1.000      1.0  \n",
       "CreditCard               0.0      1.000      1.0  \n",
       "LoanOnCard               0.0      0.000      1.0  "
      ]
     },
     "execution_count": 12,
     "metadata": {},
     "output_type": "execute_result"
    }
   ],
   "source": [
    "df.describe().T"
   ]
  },
  {
   "cell_type": "code",
   "execution_count": 13,
   "metadata": {},
   "outputs": [],
   "source": [
    "df['CustomerSince'] = np.where((df[\"CustomerSince\"] <0 ),0,df['CustomerSince'])"
   ]
  },
  {
   "cell_type": "markdown",
   "metadata": {},
   "source": [
    "## Data analysis &visualization"
   ]
  },
  {
   "cell_type": "code",
   "execution_count": 14,
   "metadata": {},
   "outputs": [],
   "source": [
    "all_cols = df.columns.tolist()"
   ]
  },
  {
   "cell_type": "code",
   "execution_count": 15,
   "metadata": {},
   "outputs": [],
   "source": [
    "continuous_cols =[\"Age\",\"CustomerSince\",\"HighestSpend\",\"Mortgage\",\"MonthlyAverageSpend\"]"
   ]
  },
  {
   "cell_type": "code",
   "execution_count": 16,
   "metadata": {},
   "outputs": [],
   "source": [
    "discrete_cols = [col for col in all_cols if (col not in continuous_cols)]"
   ]
  },
  {
   "cell_type": "code",
   "execution_count": 17,
   "metadata": {},
   "outputs": [],
   "source": [
    "discrete_cols.remove(\"ID\")"
   ]
  },
  {
   "cell_type": "code",
   "execution_count": 18,
   "metadata": {},
   "outputs": [],
   "source": [
    "discrete_cols.remove(\"ZipCode\")"
   ]
  },
  {
   "cell_type": "code",
   "execution_count": 19,
   "metadata": {},
   "outputs": [
    {
     "name": "stdout",
     "output_type": "stream",
     "text": [
      "There are 467 unique zipcodes of different customers\n"
     ]
    }
   ],
   "source": [
    "print(f\"There are {df.ZipCode.nunique()} unique zipcodes of different customers\")"
   ]
  },
  {
   "cell_type": "code",
   "execution_count": 20,
   "metadata": {},
   "outputs": [
    {
     "data": {
      "image/png": "[encoded data removed]",
      "text/plain": [
       "<Figure size 720x720 with 5 Axes>"
      ]
     },
     "metadata": {
      "needs_background": "light"
     },
     "output_type": "display_data"
    }
   ],
   "source": [
    "plt.figure(figsize=(10,10))\n",
    "plt.suptitle(\"Distribution of continuous variables\",fontsize=15,y=1.05)\n",
    "\n",
    "for idx,col in enumerate(continuous_cols):\n",
    "    ax =plt.subplot(3,2,idx+1)\n",
    "    sns.histplot(x=col,data=df,ax=ax)\n",
    "    ax.axvline(df[col].mean(),linestyle=\"--\",color=\"g\")\n",
    "    ax.set_ylabel(None)\n",
    "\n",
    "plt.tight_layout()"
   ]
  },
  {
   "cell_type": "code",
   "execution_count": 21,
   "metadata": {},
   "outputs": [
    {
     "name": "stdout",
     "output_type": "stream",
     "text": [
      "1    0.294378\n",
      "2    0.259639\n",
      "4    0.243976\n",
      "3    0.202008\n",
      "Name: HiddenScore, dtype: float64 \n",
      "\n",
      "1    0.419478\n",
      "3    0.300402\n",
      "2    0.280120\n",
      "Name: Level, dtype: float64 \n",
      "\n",
      "0    0.895582\n",
      "1    0.104418\n",
      "Name: Security, dtype: float64 \n",
      "\n",
      "0    0.939357\n",
      "1    0.060643\n",
      "Name: FixedDepositAccount, dtype: float64 \n",
      "\n",
      "1    0.597189\n",
      "0    0.402811\n",
      "Name: InternetBanking, dtype: float64 \n",
      "\n",
      "0    0.705622\n",
      "1    0.294378\n",
      "Name: CreditCard, dtype: float64 \n",
      "\n",
      "0.0    0.903614\n",
      "1.0    0.096386\n",
      "Name: LoanOnCard, dtype: float64 \n",
      "\n"
     ]
    }
   ],
   "source": [
    "for col in discrete_cols:\n",
    "    print(df[col].value_counts(normalize=True),\"\\n\")"
   ]
  },
  {
   "cell_type": "code",
   "execution_count": 22,
   "metadata": {},
   "outputs": [
    {
     "data": {
      "image/png": "[encoded data removed]",
      "text/plain": [
       "<Figure size 720x720 with 7 Axes>"
      ]
     },
     "metadata": {
      "needs_background": "light"
     },
     "output_type": "display_data"
    }
   ],
   "source": [
    "plt.figure(figsize=(10,10))\n",
    "plt.suptitle(\"Frequency distribution of discrete variables\",fontsize=15, y=1.05)\n",
    "\n",
    "for idx,col in enumerate(discrete_cols):\n",
    "    ax =plt.subplot(3,3,idx+1)\n",
    "    sns.countplot(x=col,data=df,ax=ax)\n",
    "    ax.set_ylabel(None)\n",
    "    \n",
    "plt.tight_layout()"
   ]
  },
  {
   "cell_type": "code",
   "execution_count": 23,
   "metadata": {},
   "outputs": [
    {
     "data": {
      "text/html": [
       "<div>\n",
       "<style scoped>\n",
       "    .dataframe tbody tr th:only-of-type {\n",
       "        vertical-align: middle;\n",
       "    }\n",
       "\n",
       "    .dataframe tbody tr th {\n",
       "        vertical-align: top;\n",
       "    }\n",
       "\n",
       "    .dataframe thead th {\n",
       "        text-align: right;\n",
       "    }\n",
       "</style>\n",
       "<table border=\"1\" class=\"dataframe\">\n",
       "  <thead>\n",
       "    <tr style=\"text-align: right;\">\n",
       "      <th></th>\n",
       "      <th>sum</th>\n",
       "    </tr>\n",
       "    <tr>\n",
       "      <th>Age</th>\n",
       "      <th></th>\n",
       "    </tr>\n",
       "  </thead>\n",
       "  <tbody>\n",
       "    <tr>\n",
       "      <th>43</th>\n",
       "      <td>314.07</td>\n",
       "    </tr>\n",
       "    <tr>\n",
       "      <th>35</th>\n",
       "      <td>310.43</td>\n",
       "    </tr>\n",
       "    <tr>\n",
       "      <th>46</th>\n",
       "      <td>302.02</td>\n",
       "    </tr>\n",
       "    <tr>\n",
       "      <th>34</th>\n",
       "      <td>292.52</td>\n",
       "    </tr>\n",
       "    <tr>\n",
       "      <th>45</th>\n",
       "      <td>292.10</td>\n",
       "    </tr>\n",
       "  </tbody>\n",
       "</table>\n",
       "</div>"
      ],
      "text/plain": [
       "        sum\n",
       "Age        \n",
       "43   314.07\n",
       "35   310.43\n",
       "46   302.02\n",
       "34   292.52\n",
       "45   292.10"
      ]
     },
     "execution_count": 23,
     "metadata": {},
     "output_type": "execute_result"
    }
   ],
   "source": [
    "df.groupby(\"Age\")['MonthlyAverageSpend'].agg(['sum']).nlargest(5,\"sum\")"
   ]
  },
  {
   "cell_type": "markdown",
   "metadata": {},
   "source": [
    "The age group (34-46) has the highest monthly average spend so the bank can target them to sell their credit cards"
   ]
  },
  {
   "cell_type": "code",
   "execution_count": 24,
   "metadata": {},
   "outputs": [
    {
     "name": "stdout",
     "output_type": "stream",
     "text": [
      "                   sum\n",
      "Age CreditCard        \n",
      "46  1           137.64\n",
      "45  1           104.57\n",
      "32  1            87.60\n",
      "58  1            87.60\n",
      "36  1            87.54\n"
     ]
    }
   ],
   "source": [
    "print(df[df[\"CreditCard\"] ==1].groupby([\"Age\",\"CreditCard\"])['MonthlyAverageSpend'].agg(['sum']).nlargest(5,\"sum\"))"
   ]
  },
  {
   "cell_type": "code",
   "execution_count": 25,
   "metadata": {},
   "outputs": [
    {
     "name": "stdout",
     "output_type": "stream",
     "text": [
      "                   sum\n",
      "Age CreditCard        \n",
      "35  0           244.53\n",
      "43  0           236.72\n",
      "52  0           216.80\n",
      "34  0           215.36\n",
      "30  0           200.51\n"
     ]
    }
   ],
   "source": [
    "print(df[df[\"CreditCard\"] ==0].groupby([\"Age\",\"CreditCard\"])['MonthlyAverageSpend'].agg(['sum']).nlargest(5,\"sum\"))"
   ]
  },
  {
   "cell_type": "markdown",
   "metadata": {},
   "source": [
    "Customers in the age group 30 to 45 spend more each month if they don't own a credit card"
   ]
  },
  {
   "cell_type": "code",
   "execution_count": 26,
   "metadata": {},
   "outputs": [
    {
     "data": {
      "text/html": [
       "<div>\n",
       "<style scoped>\n",
       "    .dataframe tbody tr th:only-of-type {\n",
       "        vertical-align: middle;\n",
       "    }\n",
       "\n",
       "    .dataframe tbody tr th {\n",
       "        vertical-align: top;\n",
       "    }\n",
       "\n",
       "    .dataframe thead th {\n",
       "        text-align: right;\n",
       "    }\n",
       "</style>\n",
       "<table border=\"1\" class=\"dataframe\">\n",
       "  <thead>\n",
       "    <tr style=\"text-align: right;\">\n",
       "      <th></th>\n",
       "      <th>sum</th>\n",
       "    </tr>\n",
       "    <tr>\n",
       "      <th>Age</th>\n",
       "      <th></th>\n",
       "    </tr>\n",
       "  </thead>\n",
       "  <tbody>\n",
       "    <tr>\n",
       "      <th>32</th>\n",
       "      <td>16</td>\n",
       "    </tr>\n",
       "    <tr>\n",
       "      <th>56</th>\n",
       "      <td>14</td>\n",
       "    </tr>\n",
       "    <tr>\n",
       "      <th>46</th>\n",
       "      <td>13</td>\n",
       "    </tr>\n",
       "    <tr>\n",
       "      <th>42</th>\n",
       "      <td>12</td>\n",
       "    </tr>\n",
       "    <tr>\n",
       "      <th>57</th>\n",
       "      <td>12</td>\n",
       "    </tr>\n",
       "  </tbody>\n",
       "</table>\n",
       "</div>"
      ],
      "text/plain": [
       "     sum\n",
       "Age     \n",
       "32    16\n",
       "56    14\n",
       "46    13\n",
       "42    12\n",
       "57    12"
      ]
     },
     "execution_count": 26,
     "metadata": {},
     "output_type": "execute_result"
    }
   ],
   "source": [
    "df.groupby(\"Age\")['FixedDepositAccount'].agg(['sum']).nlargest(5,\"sum\")"
   ]
  },
  {
   "cell_type": "markdown",
   "metadata": {},
   "source": [
    "Customers in their 30’s invest more on FDs"
   ]
  },
  {
   "cell_type": "code",
   "execution_count": 27,
   "metadata": {},
   "outputs": [
    {
     "name": "stdout",
     "output_type": "stream",
     "text": [
      "CreditCard\n",
      "0    6841.65\n",
      "1    2817.24\n",
      "Name: MonthlyAverageSpend, dtype: float64\n"
     ]
    },
    {
     "data": {
      "text/plain": [
       "<matplotlib.axes._subplots.AxesSubplot at 0x1e22060ed00>"
      ]
     },
     "execution_count": 27,
     "metadata": {},
     "output_type": "execute_result"
    },
    {
     "data": {
      "image/png": "[encoded data removed]",
      "text/plain": [
       "<Figure size 432x288 with 1 Axes>"
      ]
     },
     "metadata": {
      "needs_background": "light"
     },
     "output_type": "display_data"
    }
   ],
   "source": [
    "print(df.groupby(['CreditCard'])['MonthlyAverageSpend'].sum())\n",
    "sns.boxplot(data=df,x=\"CreditCard\",y=\"MonthlyAverageSpend\")"
   ]
  },
  {
   "cell_type": "markdown",
   "metadata": {},
   "source": [
    "Customers who don't own a credit card have the highest monthly Average Spend"
   ]
  },
  {
   "cell_type": "code",
   "execution_count": 28,
   "metadata": {},
   "outputs": [
    {
     "name": "stdout",
     "output_type": "stream",
     "text": [
      "CreditCard\n",
      "0    259808\n",
      "1    107977\n",
      "Name: HighestSpend, dtype: int64\n"
     ]
    },
    {
     "data": {
      "text/plain": [
       "<matplotlib.axes._subplots.AxesSubplot at 0x1e22028aa00>"
      ]
     },
     "execution_count": 28,
     "metadata": {},
     "output_type": "execute_result"
    },
    {
     "data": {
      "image/png": "[encoded data removed]",
      "text/plain": [
       "<Figure size 432x288 with 1 Axes>"
      ]
     },
     "metadata": {
      "needs_background": "light"
     },
     "output_type": "display_data"
    }
   ],
   "source": [
    "print(df.groupby(['CreditCard'])['HighestSpend'].sum())\n",
    "sns.boxplot(data=df,x=\"CreditCard\",y=\"HighestSpend\")"
   ]
  },
  {
   "cell_type": "markdown",
   "metadata": {},
   "source": [
    "Customers who don't have a credit card spend less amount in one transaction"
   ]
  },
  {
   "cell_type": "code",
   "execution_count": 29,
   "metadata": {
    "scrolled": true
   },
   "outputs": [
    {
     "name": "stdout",
     "output_type": "stream",
     "text": [
      "FixedDepositAccount\n",
      "0    8789.44\n",
      "1     869.45\n",
      "Name: MonthlyAverageSpend, dtype: float64\n"
     ]
    },
    {
     "data": {
      "text/plain": [
       "<matplotlib.axes._subplots.AxesSubplot at 0x1e220334460>"
      ]
     },
     "execution_count": 29,
     "metadata": {},
     "output_type": "execute_result"
    },
    {
     "data": {
      "image/png": "[encoded data removed]",
      "text/plain": [
       "<Figure size 432x288 with 1 Axes>"
      ]
     },
     "metadata": {
      "needs_background": "light"
     },
     "output_type": "display_data"
    }
   ],
   "source": [
    "print(df.groupby(['FixedDepositAccount'])['MonthlyAverageSpend'].sum())\n",
    "sns.boxplot(data=df,x=\"FixedDepositAccount\",y=\"MonthlyAverageSpend\")"
   ]
  },
  {
   "cell_type": "markdown",
   "metadata": {},
   "source": [
    "Customers having an FD account tend to spend less amount in each month"
   ]
  },
  {
   "cell_type": "code",
   "execution_count": 30,
   "metadata": {
    "scrolled": true
   },
   "outputs": [
    {
     "data": {
      "text/plain": [
       "Age\n",
       "34    18.0\n",
       "30    17.0\n",
       "35    16.0\n",
       "36    16.0\n",
       "63    16.0\n",
       "Name: LoanOnCard, dtype: float64"
      ]
     },
     "execution_count": 30,
     "metadata": {},
     "output_type": "execute_result"
    }
   ],
   "source": [
    "df.groupby(['Age'])['LoanOnCard'].sum()[df.groupby(['Age'])['LoanOnCard'].sum()!=0].nlargest(5)"
   ]
  },
  {
   "cell_type": "code",
   "execution_count": 31,
   "metadata": {
    "scrolled": true
   },
   "outputs": [
    {
     "data": {
      "text/plain": [
       "0.0    0.903614\n",
       "1.0    0.096386\n",
       "Name: LoanOnCard, dtype: float64"
      ]
     },
     "execution_count": 31,
     "metadata": {},
     "output_type": "execute_result"
    }
   ],
   "source": [
    "df.LoanOnCard.value_counts(normalize=True)"
   ]
  },
  {
   "cell_type": "markdown",
   "metadata": {},
   "source": [
    "Class distribution is imbalanced\n",
    "\n",
    "Maximum customers are of the the age group between 30-36 who have accepted the loan"
   ]
  },
  {
   "cell_type": "code",
   "execution_count": 32,
   "metadata": {},
   "outputs": [
    {
     "data": {
      "text/plain": [
       "CreditCard  LoanOnCard\n",
       "0           0.0           5537.43\n",
       "            1.0           1304.22\n",
       "1           0.0           2246.89\n",
       "            1.0            570.35\n",
       "Name: MonthlyAverageSpend, dtype: float64"
      ]
     },
     "execution_count": 32,
     "metadata": {},
     "output_type": "execute_result"
    }
   ],
   "source": [
    "df.groupby([\"CreditCard\",\"LoanOnCard\"])[\"MonthlyAverageSpend\"].sum()"
   ]
  },
  {
   "cell_type": "markdown",
   "metadata": {},
   "source": [
    "Customers who have credit and Loan spend less amount each month"
   ]
  },
  {
   "cell_type": "code",
   "execution_count": 33,
   "metadata": {},
   "outputs": [
    {
     "data": {
      "text/plain": [
       "CreditCard  LoanOnCard\n",
       "0           0.0           334\n",
       "            1.0            43\n",
       "1           0.0           126\n",
       "            1.0            17\n",
       "Name: Security, dtype: int64"
      ]
     },
     "execution_count": 33,
     "metadata": {},
     "output_type": "execute_result"
    }
   ],
   "source": [
    "df.groupby([\"CreditCard\",\"LoanOnCard\"])[\"Security\"].sum()"
   ]
  },
  {
   "cell_type": "markdown",
   "metadata": {},
   "source": [
    "Not all customers have given a security asset to the bank while taking a loan"
   ]
  },
  {
   "cell_type": "markdown",
   "metadata": {},
   "source": [
    "## Data pre-processing"
   ]
  },
  {
   "cell_type": "code",
   "execution_count": 34,
   "metadata": {},
   "outputs": [],
   "source": [
    "predict_val = df.drop(columns=['ID',\"ZipCode\",\"LoanOnCard\"],axis=1)\n",
    "target = df.loc[:,'LoanOnCard']"
   ]
  },
  {
   "cell_type": "code",
   "execution_count": 35,
   "metadata": {},
   "outputs": [],
   "source": [
    "# Splitting the data into training and testing\n",
    "X_train,X_test,y_train,y_test = train_test_split(predict_val,target,test_size=0.3,random_state=44)"
   ]
  },
  {
   "cell_type": "code",
   "execution_count": 36,
   "metadata": {},
   "outputs": [
    {
     "data": {
      "text/html": [
       "<div>\n",
       "<style scoped>\n",
       "    .dataframe tbody tr th:only-of-type {\n",
       "        vertical-align: middle;\n",
       "    }\n",
       "\n",
       "    .dataframe tbody tr th {\n",
       "        vertical-align: top;\n",
       "    }\n",
       "\n",
       "    .dataframe thead th {\n",
       "        text-align: right;\n",
       "    }\n",
       "</style>\n",
       "<table border=\"1\" class=\"dataframe\">\n",
       "  <thead>\n",
       "    <tr style=\"text-align: right;\">\n",
       "      <th></th>\n",
       "      <th>Age</th>\n",
       "      <th>CustomerSince</th>\n",
       "      <th>HighestSpend</th>\n",
       "      <th>HiddenScore</th>\n",
       "      <th>MonthlyAverageSpend</th>\n",
       "      <th>Level</th>\n",
       "      <th>Mortgage</th>\n",
       "      <th>Security</th>\n",
       "      <th>FixedDepositAccount</th>\n",
       "      <th>InternetBanking</th>\n",
       "      <th>CreditCard</th>\n",
       "    </tr>\n",
       "  </thead>\n",
       "  <tbody>\n",
       "    <tr>\n",
       "      <th>0</th>\n",
       "      <td>0.000000</td>\n",
       "      <td>0.000000</td>\n",
       "      <td>0.671429</td>\n",
       "      <td>0.000000</td>\n",
       "      <td>0.633</td>\n",
       "      <td>0.0</td>\n",
       "      <td>0.494327</td>\n",
       "      <td>0.0</td>\n",
       "      <td>0.0</td>\n",
       "      <td>0.0</td>\n",
       "      <td>1.0</td>\n",
       "    </tr>\n",
       "    <tr>\n",
       "      <th>1</th>\n",
       "      <td>0.772727</td>\n",
       "      <td>0.720930</td>\n",
       "      <td>0.223810</td>\n",
       "      <td>0.666667</td>\n",
       "      <td>0.250</td>\n",
       "      <td>0.0</td>\n",
       "      <td>0.354943</td>\n",
       "      <td>0.0</td>\n",
       "      <td>1.0</td>\n",
       "      <td>1.0</td>\n",
       "      <td>1.0</td>\n",
       "    </tr>\n",
       "    <tr>\n",
       "      <th>2</th>\n",
       "      <td>0.227273</td>\n",
       "      <td>0.186047</td>\n",
       "      <td>0.809524</td>\n",
       "      <td>0.666667</td>\n",
       "      <td>0.850</td>\n",
       "      <td>0.0</td>\n",
       "      <td>0.000000</td>\n",
       "      <td>1.0</td>\n",
       "      <td>1.0</td>\n",
       "      <td>1.0</td>\n",
       "      <td>0.0</td>\n",
       "    </tr>\n",
       "    <tr>\n",
       "      <th>3</th>\n",
       "      <td>0.727273</td>\n",
       "      <td>0.720930</td>\n",
       "      <td>0.309524</td>\n",
       "      <td>0.666667</td>\n",
       "      <td>0.267</td>\n",
       "      <td>0.0</td>\n",
       "      <td>0.354943</td>\n",
       "      <td>0.0</td>\n",
       "      <td>0.0</td>\n",
       "      <td>1.0</td>\n",
       "      <td>0.0</td>\n",
       "    </tr>\n",
       "    <tr>\n",
       "      <th>4</th>\n",
       "      <td>0.454545</td>\n",
       "      <td>0.441860</td>\n",
       "      <td>0.238095</td>\n",
       "      <td>0.333333</td>\n",
       "      <td>0.320</td>\n",
       "      <td>0.0</td>\n",
       "      <td>0.000000</td>\n",
       "      <td>0.0</td>\n",
       "      <td>0.0</td>\n",
       "      <td>1.0</td>\n",
       "      <td>0.0</td>\n",
       "    </tr>\n",
       "  </tbody>\n",
       "</table>\n",
       "</div>"
      ],
      "text/plain": [
       "        Age  CustomerSince  HighestSpend  HiddenScore  MonthlyAverageSpend  \\\n",
       "0  0.000000       0.000000      0.671429     0.000000                0.633   \n",
       "1  0.772727       0.720930      0.223810     0.666667                0.250   \n",
       "2  0.227273       0.186047      0.809524     0.666667                0.850   \n",
       "3  0.727273       0.720930      0.309524     0.666667                0.267   \n",
       "4  0.454545       0.441860      0.238095     0.333333                0.320   \n",
       "\n",
       "   Level  Mortgage  Security  FixedDepositAccount  InternetBanking  CreditCard  \n",
       "0    0.0  0.494327       0.0                  0.0              0.0         1.0  \n",
       "1    0.0  0.354943       0.0                  1.0              1.0         1.0  \n",
       "2    0.0  0.000000       1.0                  1.0              1.0         0.0  \n",
       "3    0.0  0.354943       0.0                  0.0              1.0         0.0  \n",
       "4    0.0  0.000000       0.0                  0.0              1.0         0.0  "
      ]
     },
     "execution_count": 36,
     "metadata": {},
     "output_type": "execute_result"
    }
   ],
   "source": [
    "# Scaling\n",
    "scaler = MinMaxScaler()\n",
    "X_train = pd.DataFrame(scaler.fit_transform(X_train),columns=X_train.columns)\n",
    "X_test = pd.DataFrame(scaler.transform(X_test),columns=X_test.columns)\n",
    "X_train.head()"
   ]
  },
  {
   "cell_type": "markdown",
   "metadata": {},
   "source": [
    "## Model training,testing and tuning"
   ]
  },
  {
   "cell_type": "code",
   "execution_count": 37,
   "metadata": {},
   "outputs": [
    {
     "name": "stdout",
     "output_type": "stream",
     "text": [
      "Training accuracy : 0.9492254733218589\n",
      "\n",
      "Testing accuracy : 0.9605087014725568\n",
      "\n",
      "Confusion Matrix :\n",
      " [[1354   11]\n",
      " [  48   81]]\n",
      "\n",
      "               precision    recall  f1-score   support\n",
      "\n",
      "         0.0       0.97      0.99      0.98      1365\n",
      "         1.0       0.88      0.63      0.73       129\n",
      "\n",
      "    accuracy                           0.96      1494\n",
      "   macro avg       0.92      0.81      0.86      1494\n",
      "weighted avg       0.96      0.96      0.96      1494\n",
      "\n",
      "AUC score : 0.9541925774483914\n"
     ]
    }
   ],
   "source": [
    "# Logistic regression\n",
    "\n",
    "lgb = LogisticRegression(random_state=100).fit(X_train,y_train)\n",
    "\n",
    "lgb_pred = lgb.predict(X_test)\n",
    "lgb_pred_prob = lgb.predict_proba(X_test)[:,1]\n",
    "\n",
    "train_acc= accuracy_score(y_train,lgb.predict(X_train))\n",
    "test_acc = accuracy_score(y_test,lgb_pred)\n",
    "\n",
    "print(\"Training accuracy :\",train_acc)\n",
    "print(\"\\nTesting accuracy :\",test_acc)\n",
    "\n",
    "print(\"\\nConfusion Matrix :\\n\",confusion_matrix(y_test,lgb_pred))\n",
    "print(\"\\n\",classification_report(y_test,lgb_pred))\n",
    "\n",
    "fpr_lgb,tpr_lgb,thresholds_lgb = roc_curve(y_test,lgb_pred_prob)\n",
    "auc_score_lgb = roc_auc_score(y_test,lgb_pred_prob)\n",
    "print(\"AUC score :\",auc_score_lgb)"
   ]
  },
  {
   "cell_type": "code",
   "execution_count": 38,
   "metadata": {},
   "outputs": [
    {
     "name": "stdout",
     "output_type": "stream",
     "text": [
      "Training accuracy : 0.8998852553069421\n",
      "\n",
      "Testing accuracy : 0.9149933065595717\n",
      "\n",
      "Confusion Matrix :\n",
      " [[1365    0]\n",
      " [ 127    2]]\n",
      "              precision    recall  f1-score   support\n",
      "\n",
      "         0.0       0.91      1.00      0.96      1365\n",
      "         1.0       1.00      0.02      0.03       129\n",
      "\n",
      "    accuracy                           0.91      1494\n",
      "   macro avg       0.96      0.51      0.49      1494\n",
      "weighted avg       0.92      0.91      0.88      1494\n",
      "\n",
      "AUC score : 0.8601925206576368\n"
     ]
    }
   ],
   "source": [
    "# Naive Bayes\n",
    "\n",
    "nb = MultinomialNB().fit(X_train,y_train)\n",
    "\n",
    "nb_pred = nb.predict(X_test)\n",
    "nb_pred_prob = nb.predict_proba(X_test)[:,1]\n",
    "\n",
    "train_acc_nb= accuracy_score(y_train,nb.predict(X_train))\n",
    "test_acc_nb = accuracy_score(y_test,nb_pred)\n",
    "\n",
    "print(\"Training accuracy :\",train_acc_nb)\n",
    "print(\"\\nTesting accuracy :\",test_acc_nb)\n",
    "\n",
    "print(\"\\nConfusion Matrix :\\n\",confusion_matrix(y_test,nb_pred))\n",
    "print(classification_report(y_test,nb_pred,zero_division=1))\n",
    "\n",
    "fpr_nb,tpr_nb,thresholds_nb = roc_curve(y_test,nb_pred_prob)\n",
    "auc_score_nb = roc_auc_score(y_test,nb_pred_prob)\n",
    "print(\"AUC score :\",auc_score_nb)"
   ]
  },
  {
   "cell_type": "code",
   "execution_count": 39,
   "metadata": {},
   "outputs": [
    {
     "name": "stdout",
     "output_type": "stream",
     "text": [
      "Training accuracy : 1.0\n",
      "\n",
      "Testing accuracy : 0.9906291834002677\n",
      "\n",
      "Confusion Matrix :\n",
      " [[1363    2]\n",
      " [  12  117]]\n",
      "              precision    recall  f1-score   support\n",
      "\n",
      "         0.0       0.99      1.00      0.99      1365\n",
      "         1.0       0.98      0.91      0.94       129\n",
      "\n",
      "    accuracy                           0.99      1494\n",
      "   macro avg       0.99      0.95      0.97      1494\n",
      "weighted avg       0.99      0.99      0.99      1494\n",
      "\n",
      "AUC score : 0.9985291194593521\n"
     ]
    }
   ],
   "source": [
    "#Random Forest\n",
    "\n",
    "rf = RandomForestClassifier(n_estimators=1000,bootstrap=True,random_state=44).fit(X_train,y_train)\n",
    "\n",
    "rf_pred = rf.predict(X_test)\n",
    "rf_pred_prob = rf.predict_proba(X_test)[:,1]\n",
    "\n",
    "train_acc_rf= accuracy_score(y_train,rf.predict(X_train))\n",
    "test_acc_rf = accuracy_score(y_test,rf_pred)\n",
    "\n",
    "print(\"Training accuracy :\",train_acc_rf)\n",
    "print(\"\\nTesting accuracy :\",test_acc_rf)\n",
    "\n",
    "print(\"\\nConfusion Matrix :\\n\",confusion_matrix(y_test,rf_pred))\n",
    "print(classification_report(y_test,rf_pred))\n",
    "\n",
    "fpr_rf,tpr_rf,thresholds_rf = roc_curve(y_test,rf_pred_prob)\n",
    "auc_score_rf = roc_auc_score(y_test,rf_pred_prob)\n",
    "print(\"AUC score :\",auc_score_rf)"
   ]
  },
  {
   "cell_type": "markdown",
   "metadata": {},
   "source": [
    "• Precision is the number of correct labels that were predicted by the model.\n",
    "\n",
    "• Logistic model and naive bayes has good precsion for classifying both classes i.e class 0 and class 1\n",
    "\n",
    "• Recall is the number of labels, out of the correct labels, that were successfully predicted.The recall cares only about how the positive samples are classified. This is independent of how the negative samples are classified\n",
    "\n",
    "• Precision and Recall have an inverse relation\n",
    "\n",
    "• Here, Logistic model has good recall score to successfully classify 0’s and 1’s but naive bayes fails to successfully classify the labels\n",
    "\n",
    "• f1-score is the balance between precision and recall.\n",
    "\n",
    "• Support is the total number of samples present in class 0 and class 1\n",
    "\n",
    "In this scenario we should consider Precision as our evaluation metric because we need to correctly\n",
    "identify the potential customers who will accept the loan which will help in maximizing the business\n",
    "profit"
   ]
  },
  {
   "cell_type": "code",
   "execution_count": 40,
   "metadata": {},
   "outputs": [
    {
     "data": {
      "text/plain": [
       "<matplotlib.legend.Legend at 0x1e2203df9d0>"
      ]
     },
     "execution_count": 40,
     "metadata": {},
     "output_type": "execute_result"
    },
    {
     "data": {
      "image/png": "[encoded data removed]",
      "text/plain": [
       "<Figure size 720x720 with 1 Axes>"
      ]
     },
     "metadata": {
      "needs_background": "light"
     },
     "output_type": "display_data"
    }
   ],
   "source": [
    "plt.figure(figsize=(10,10))\n",
    "plt.plot(fpr_lgb, tpr_lgb, label=f'AUC (Logistic Regression) = {auc_score_lgb:0.4}')\n",
    "plt.plot(fpr_nb, tpr_nb, label=f'AUC (Naive Bayes) = {auc_score_nb:.4f}')\n",
    "plt.plot(fpr_rf, tpr_rf, label=f'AUC (Random Forest) = {auc_score_rf:.4f}')\n",
    "plt.plot([0, 1], [0, 1], color='red', linestyle='--',label=\"Random classifier\")\n",
    "plt.title('ROC Curve', size=15)\n",
    "plt.xlabel('False Positive Rate', size=12)\n",
    "plt.ylabel('True Positive Rate', size=12)\n",
    "plt.grid()\n",
    "plt.legend()"
   ]
  },
  {
   "cell_type": "markdown",
   "metadata": {},
   "source": [
    "Choosing the Random Forest model because:\n",
    "1. It is outperforming all the previous models in terms of classifying labels.\n",
    "2. This model has less False positives and False negatives compared to other models.\n",
    "3. It has the maximum AUC 0.999 which is almost close to 1\n",
    "\n",
    "In our data we have an imbalance in the class distribution of target variable (LoanOnCard),so\n",
    "we should prefer a model with AUC close to 1\n"
   ]
  },
  {
   "cell_type": "markdown",
   "metadata": {},
   "source": [
    "## Conclusion"
   ]
  },
  {
   "cell_type": "markdown",
   "metadata": {},
   "source": [
    "Data can have more samples of class 1 in the loan variable so that the distribution is balanced"
   ]
  },
  {
   "cell_type": "code",
   "execution_count": null,
   "metadata": {},
   "outputs": [],
   "source": []
  }
 ],
 "metadata": {
  "kernelspec": {
   "display_name": "Python 3",
   "language": "python",
   "name": "python3"
  },
  "language_info": {
   "codemirror_mode": {
    "name": "ipython",
    "version": 3
   },
   "file_extension": ".py",
   "mimetype": "text/x-python",
   "name": "python",
   "nbconvert_exporter": "python",
   "pygments_lexer": "ipython3",
   "version": "3.8.3"
  }
 },
 "nbformat": 4,
 "nbformat_minor": 4
}
